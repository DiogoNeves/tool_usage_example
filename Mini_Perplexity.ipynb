{
  "nbformat": 4,
  "nbformat_minor": 0,
  "metadata": {
    "colab": {
      "provenance": [],
      "authorship_tag": "ABX9TyP/y5npl4zRbl2cQ2CmLTH8",
      "include_colab_link": true
    },
    "kernelspec": {
      "name": "python3",
      "display_name": "Python 3"
    },
    "language_info": {
      "name": "python"
    }
  },
  "cells": [
    {
      "cell_type": "markdown",
      "metadata": {
        "id": "view-in-github",
        "colab_type": "text"
      },
      "source": [
        "<a href=\"https://colab.research.google.com/github/DiogoNeves/tool_usage_example/blob/main/Mini_Perplexity.ipynb\" target=\"_parent\"><img src=\"https://colab.research.google.com/assets/colab-badge.svg\" alt=\"Open In Colab\"/></a>"
      ]
    },
    {
      "cell_type": "code",
      "source": [
        "!pip install anthropic"
      ],
      "metadata": {
        "id": "5dn18T4XKcJz"
      },
      "execution_count": null,
      "outputs": []
    },
    {
      "cell_type": "code",
      "source": [
        "!pip install duckduckgo_search"
      ],
      "metadata": {
        "id": "FUr1B2wbXFjq"
      },
      "execution_count": null,
      "outputs": []
    },
    {
      "cell_type": "code",
      "source": [
        "from typing import Any\n",
        "from collections import namedtuple"
      ],
      "metadata": {
        "id": "EHs07GLgjS0c"
      },
      "execution_count": 2,
      "outputs": []
    },
    {
      "cell_type": "code",
      "source": [
        "import anthropic\n",
        "from google.colab import userdata\n",
        "\n",
        "ANTHROPIC_KEY = userdata.get(\"ANTHROPIC_API_KEY\")\n",
        "MODEL = \"claude-3-haiku-20240307\"\n",
        "\n",
        "client = anthropic.Anthropic(api_key=ANTHROPIC_KEY)"
      ],
      "metadata": {
        "id": "invP-D87Kn32"
      },
      "execution_count": 3,
      "outputs": []
    },
    {
      "cell_type": "markdown",
      "source": [
        "## Defining our assistant"
      ],
      "metadata": {
        "id": "4p1pwilpjqv4"
      }
    },
    {
      "cell_type": "code",
      "source": [
        "SYSTEM_MESSAGE = (\"You are a useful assistant that can answer general questions\"\n",
        "                  \" from users. Some questions require up-to-date knowledge,\"\n",
        "                  \" for which you should search the web with the tools\"\n",
        "                  \" provided. When returning answers from web searches, provide\"\n",
        "                  \" the sources as markdown reference links close to where the\"\n",
        "                  \" answer shows. For example, this is a reference link\"\n",
        "                  \" [1](https://reference.com)\")\n",
        "\n",
        "TOOLS = [\n",
        "    {\n",
        "        \"name\": \"search_web\",\n",
        "        \"description\": (\"Search the web based on a search query provided by the\"\n",
        "                        \" user. The query should be optimised for search\"\n",
        "                        \" engines to find the information needed to answer the\"\n",
        "                        \" main user query.\"),\n",
        "        \"input_schema\": {\n",
        "            \"type\": \"object\",\n",
        "            \"properties\": {\n",
        "                \"query\": {\n",
        "                    \"type\": \"string\",\n",
        "                    \"description\": (\"A web search optimised search query.\")\n",
        "                }\n",
        "            },\n",
        "            \"required\": [\"query\"],\n",
        "        },\n",
        "    },\n",
        "]"
      ],
      "metadata": {
        "id": "wfsWZOb5T6XT"
      },
      "execution_count": 49,
      "outputs": []
    },
    {
      "cell_type": "code",
      "source": [
        "from duckduckgo_search import DDGS\n",
        "\n",
        "NUM_RESULTS_TO_CONSIDER = 3\n",
        "\n",
        "\n",
        "def search_web(query: str) -> list[str]:\n",
        "    web_results = DDGS().text(query, max_results=NUM_RESULTS_TO_CONSIDER)\n",
        "    print(\"Web results: \", web_results)\n",
        "    return [_parse_web_result(result) for result in web_results]\n",
        "\n",
        "\n",
        "def _parse_web_result(web_result: dict) -> str:\n",
        "    return f\"\"\"<web_result>\n",
        "                <title>{web_result[\"title\"]}</title>\n",
        "                <body>{web_result[\"body\"]}</body>\n",
        "                <source>{web_result[\"href\"]}</source>\n",
        "               </web_result>\"\"\"\n",
        "\n",
        "\n",
        "FUNCTION_MAP = {\n",
        "    \"search_web\": search_web\n",
        "}"
      ],
      "metadata": {
        "id": "4tPYGTr3lHx6"
      },
      "execution_count": 53,
      "outputs": []
    },
    {
      "cell_type": "markdown",
      "source": [
        "## LLM Function calling loop"
      ],
      "metadata": {
        "id": "pt1YPoTOjlTi"
      }
    },
    {
      "cell_type": "code",
      "source": [
        "def run_tool(tool_block: Any, available_tools: dict) -> dict:\n",
        "    \"\"\"Run the right tool to the tool_block.\"\"\"\n",
        "    print(f\"Called out to {tool_block.name}\")\n",
        "\n",
        "    tool_to_run = available_tools.get(tool_block.name, None)\n",
        "    assert tool_to_run is not None\n",
        "\n",
        "    tool_id = tool_block.id\n",
        "    result = tool_to_run(**tool_block.input)\n",
        "    return {\n",
        "        \"type\": \"tool_result\",\n",
        "        \"tool_use_id\": tool_id,\n",
        "        \"content\": str(result)\n",
        "    }\n",
        "\n",
        "\n",
        "def query_claude(user_prompt: str | list, conversation: list,\n",
        "                 available_tools: dict) -> tuple[str, list]:\n",
        "\n",
        "    messages = conversation + [{\"role\": \"user\", \"content\": user_prompt}]\n",
        "\n",
        "    message = client.beta.tools.messages.create(\n",
        "        model=MODEL,\n",
        "        max_tokens=1000,\n",
        "        temperature=0.0,\n",
        "        system=SYSTEM_MESSAGE,\n",
        "        tools=TOOLS,\n",
        "        messages=messages\n",
        "    )\n",
        "\n",
        "    assistant_turn = {\"role\": \"assistant\", \"content\": message.content}\n",
        "    new_conversation = messages + [assistant_turn]\n",
        "\n",
        "    tool_blocks = [block for block in message.content\n",
        "                   if block.type == \"tool_use\"]\n",
        "\n",
        "    if not tool_blocks:\n",
        "        return \"\".join([block.text for block in message.content]), \\\n",
        "            new_conversation\n",
        "\n",
        "    print(\"Tools called: \", message.content)\n",
        "\n",
        "    tool_results = []\n",
        "    for block in tool_blocks:\n",
        "        tool_result = run_tool(block, available_tools)\n",
        "        tool_results.append(tool_result)\n",
        "\n",
        "    return query_claude(tool_results, new_conversation, available_tools)"
      ],
      "metadata": {
        "id": "VlF5vpC2Lxd4"
      },
      "execution_count": 59,
      "outputs": []
    },
    {
      "cell_type": "markdown",
      "source": [
        "## Testing the implementation"
      ],
      "metadata": {
        "id": "paQZzBwYTAvb"
      }
    },
    {
      "cell_type": "code",
      "source": [
        "POSITIVE_CASES = [\n",
        "    \"What is Android 15's release date\",\n",
        "    \"When is the new iPhone coming out\",\n",
        "    \"Is Perplexity a publicly traded company\",\n",
        "    \"how can I search the web in python without having to setup paid APIs?\"\n",
        "]\n",
        "\n",
        "NEGATIVE_CASES = [\n",
        "    \"How do translate coding into japanese\",\n",
        "    \"What's your name\",\n",
        "    \"How do LLMs work\",\n",
        "    \"Say hello\"\n",
        "]"
      ],
      "metadata": {
        "id": "-euHvMnZeMrG"
      },
      "execution_count": 63,
      "outputs": []
    },
    {
      "cell_type": "code",
      "source": [
        "def test_web_search_claude(cases: list[str], expected: int) -> bool:\n",
        "    web_search_count = 0\n",
        "\n",
        "    def test_search_web(query: str) -> list[str]:\n",
        "        nonlocal web_search_count\n",
        "        web_search_count += 1\n",
        "        return search_web(query)\n",
        "\n",
        "    test_function_map = {\n",
        "        \"search_web\": test_search_web\n",
        "    }\n",
        "\n",
        "    for prompt in cases:\n",
        "        print(\"Testing case \", prompt)\n",
        "        query_claude(prompt, [], test_function_map)\n",
        "\n",
        "    if web_search_count == expected:\n",
        "        print(\"SUCCESS!\")\n",
        "    else:\n",
        "        print(f\"FAIL! Searched the web {web_search_count}\"\n",
        "              f\" but expected {expected}.\")\n",
        "\n",
        "    return web_search_count == expected"
      ],
      "metadata": {
        "id": "JXkmrCEufAE-"
      },
      "execution_count": 77,
      "outputs": []
    },
    {
      "cell_type": "code",
      "source": [
        "test_web_search_claude(POSITIVE_CASES, len(POSITIVE_CASES))\n",
        "test_web_search_claude(NEGATIVE_CASES, 0)"
      ],
      "metadata": {
        "colab": {
          "base_uri": "https://localhost:8080/"
        },
        "id": "zx8y2d91fq9V",
        "outputId": "0a517fdf-5420-4472-cb19-b9a02d4ee6bf"
      },
      "execution_count": 78,
      "outputs": [
        {
          "output_type": "stream",
          "name": "stdout",
          "text": [
            "Testing case  What is Android 15's release date\n",
            "Tools called:  [ToolUseBlock(id='toolu_01EpcaLSrfsPWmouopzDXrq6', input={'query': 'Android 15 release date'}, name='search_web', type='tool_use')]\n",
            "Called out to search_web\n",
            "Web results:  [{'title': 'Android 15: All the new features, eligible devices, and release date', 'href': 'https://www.androidcentral.com/apps-software/android-15', 'body': 'Android 15: All the new features, eligible devices, and release date. Google has started to roll out the first public beta of Android 15, and there is a lot to like. Google likes to roll out ...'}, {'title': 'Android 15: What we know so far and what features we want to see', 'href': 'https://www.androidauthority.com/android-15-features-3401939/', 'body': 'Android 15 is the next major version of Android, expected to launch in October 2024. Learn about the confirmed and leaked features, such as partial screen sharing, satellite connectivity, and high-quality webcam mode.'}, {'title': 'Android 15: Leaks, timeline, and everything new in Beta 1', 'href': 'https://www.androidpolice.com/android-15/', 'body': 'Learn about the latest features and changes in Android 15, the upcoming OS version for Pixel phones and other Android devices. Find out the release date, device support, and how to join the developer preview program.'}]\n",
            "Testing case  When is the new iPhone coming out\n",
            "Tools called:  [ToolUseBlock(id='toolu_01F7yC8tkQzhDgupAjMeJnpm', input={'query': 'new iphone release date'}, name='search_web', type='tool_use')]\n",
            "Called out to search_web\n",
            "Web results:  [{'title': 'Apple introduces iPhone 14 and iPhone 14 Plus - Apple', 'href': 'https://www.apple.com/newsroom/2022/09/apple-introduces-iphone-14-and-iphone-14-plus/', 'body': 'The new iPhones are available in 6.1-inch and 6.7-inch sizes, with a new dual-camera system, Crash Detection, and Emergency SOS via satellite. Pre-orders begin on September 9, and availability starts on September 16 for iPhone 14 and October 7 for iPhone 14 Plus.'}, {'title': 'Apple iPhone 15 and iPhone 15 Pro: Specs, Price, Release Date - WIRED', 'href': 'https://www.wired.com/story/apple-iphone-15-specs-price-release-date/', 'body': 'The iPhone 15 and iPhone 15 Plus remain at the same price of $799 and $899, respectively. The iPhone 15 Pro stays at the same price of $999, but the iPhone 15 Pro Max is getting a price increase ...'}, {'title': 'Apple iPhone 14: price, release date, and how to buy - The Verge', 'href': 'https://www.theverge.com/23320607/iphone-14-plus-pro-max-preorder-buy-price-release-date-apple', 'body': 'The iPhone 14 and 14 Plus are available now, while the 14 Pro and 14 Pro Max will launch on October 7th. Compare the features, storage options, and carrier deals for the four new models.'}]\n",
            "Testing case  Is Perplexity a publicly traded company\n",
            "Tools called:  [ToolUseBlock(id='toolu_01SUX4JhLuPuLn3hqHQEkFjM', input={'query': 'Is Perplexity a publicly traded company'}, name='search_web', type='tool_use')]\n",
            "Called out to search_web\n",
            "Web results:  [{'title': 'How to Buy Perplexity Stock Pre-IPO | The Motley Fool', 'href': 'https://www.fool.com/investing/how-to-invest/stocks/how-to-invest-in-perplexity-stock/', 'body': \"Right now, only one publicly traded company owns shares of Perplexity, and that's Nvidia (NVDA 6.18%). With Nvidia's market cap topping $2 trillion and its stake in Perplexity likely worth only a ...\"}, {'title': 'AI-powered search engine Perplexity AI, now valued at $520M, raises $73.6M', 'href': 'https://finance.yahoo.com/news/ai-powered-search-engine-perplexity-113011558.html', 'body': 'One among the cohort, Perplexity AI, this morning announced that it raised $73.6 million in a funding round led by IVP with additional investments from NEA, Databricks Ventures, former Twitter VP ...'}, {'title': 'Search startup Perplexity AI valued at $520 million in funding from ...', 'href': 'https://finance.yahoo.com/news/perplexity-ai-valued-520-million-163110735.html', 'body': 'NVDA. By Krystal Hu and Pritam Biswas. (Reuters) -Search startup Perplexity AI has raised $73.6 million from a group of investors including Nvidia and Amazon founder Jeff Bezos, the latest example ...'}]\n",
            "Testing case  how can I search the web in python without having to setup paid APIs?\n",
            "Tools called:  [TextBlock(text='Here are some ways to search the web in Python without using paid APIs:', type='text'), ToolUseBlock(id='toolu_01SQTP6xXkFScaidimDx9Vtp', input={'query': 'how to search the web in python without paid apis'}, name='search_web', type='tool_use')]\n",
            "Called out to search_web\n",
            "Web results:  [{'title': 'How to search internet with Python? - Stack Overflow', 'href': 'https://stackoverflow.com/questions/15798878/how-to-search-internet-with-python', 'body': 'You have first to read about the standard python library urllib2.. Once you are comfortable with the basic ideas behind this lib you can try requests which is much easier to interact with the web especially APIs. I suggest using it in parallel with httpie to test out queries quick and dirty from command line.. If you go a little further building a librairy or an engine to crawl the web you ...'}, {'title': 'Programmatically searching google without API-Key in Python', 'href': 'https://stackoverflow.com/questions/73149221/programmatically-searching-google-without-api-key-in-python', 'body': '1. For scraping Google Search Results you can using BeautifulSoup web scraping library. The request might be blocked if you use requests, since the default user-agent library in requests is python-requests because Google might consider you a bot. To bypass possible blocking, you can add headers with your real User-Agent to the code.'}, {'title': '5 Best Ways to Perform Google Search Using Python Code', 'href': 'https://blog.finxter.com/5-best-ways-to-perform-google-search-using-python-code/', 'body': 'This code snippet uses the search function from the googlesearch library, fetching the first 10 URLs matching the \"Python programming\" search. It\\'s an accessible and concise way to perform Google searches without getting into the complexities of web scraping or encountering CAPTCHAs. Method 2: Utilizing Google Custom Search JSON API'}]\n",
            "SUCCESS!\n",
            "Testing case  How do translate coding into japanese\n",
            "Tools called:  [ToolUseBlock(id='toolu_0126nrnkTdMnvQA6rueAP6dD', input={'query': 'how to translate coding into japanese'}, name='search_web', type='tool_use')]\n",
            "Called out to search_web\n",
            "Web results:  [{'title': 'Coding languages translator, Code Translator: Convert Between ...', 'href': 'https://developerpal.dev/translate', 'body': 'Discover the future of coding with our revolutionary Translation Tool, designed to bridge the gap between diverse programming languages. Our innovative platform offers a seamless experience in translating code from one programming language to another, enabling developers, students, and technology enthusiasts to effortlessly understand and ...'}, {'title': 'source code - What is programming like in the Japanese language ...', 'href': 'https://softwareengineering.stackexchange.com/questions/46386/what-is-programming-like-in-the-japanese-language', 'body': \"Additionally, some older implementations of languages that translate code into tokens (not true compiling), can spit out the same code in an editor using the, say, German equivalent; my first experience with Microsoft Office's VBA was like this when I was a student in Germany. ... My wife generally writes code with a sort of Japanese-like ...\"}, {'title': 'Coding in Other (Spoken) Languages - Stack Overflow', 'href': 'https://stackoverflow.com/questions/202723/coding-in-other-spoken-languages', 'body': 'Excel\\'s macro language is localized, but luckily it\\'s stored in one canonical language (English) in the file, so the localization is just a layer on top of the normal thing. Such things only make sense for small \"programs\", for \"real\" programs it becomes hard to maintain. edited Oct 14, 2008 at 21:26. community wiki.'}]\n",
            "Testing case  What's your name\n",
            "Testing case  How do LLMs work\n",
            "Tools called:  [ToolUseBlock(id='toolu_01KBSj8sNyVvCv2Rts5KT8fZ', input={'query': 'how do large language models work'}, name='search_web', type='tool_use')]\n",
            "Called out to search_web\n",
            "Web results:  [{'title': 'A jargon-free explanation of how AI large language models work', 'href': 'https://arstechnica.com/science/2023/07/a-jargon-free-explanation-of-how-ai-large-language-models-work/', 'body': 'To understand how language models work, you first need to understand how they represent words. Humans represent English words with a sequence of letters, like C-A-T for \"cat.\"'}, {'title': 'Introduction to Large Language Models | Machine Learning | Google for ...', 'href': 'https://developers.google.com/machine-learning/resources/intro-llms', 'body': 'A language model is a machine learning model that aims to predict and generate plausible language. Autocomplete is a language model, for example. Autocomplete is a language model, for example. These models work by estimating the probability of a token or sequence of tokens occurring within a longer sequence of tokens.'}, {'title': 'Large language model - Wikipedia', 'href': 'https://en.wikipedia.org/wiki/Large_language_model', 'body': 'A large language model (LLM) is a language model notable for its ability to achieve general-purpose language generation and other natural language processing tasks such as classification.LLMs acquire these abilities by learning statistical relationships from text documents during a computationally intensive self-supervised and semi-supervised training process.'}]\n",
            "Testing case  Say hello\n",
            "FAIL! Searched the web 2 but expected 0.\n"
          ]
        },
        {
          "output_type": "execute_result",
          "data": {
            "text/plain": [
              "False"
            ]
          },
          "metadata": {},
          "execution_count": 78
        }
      ]
    },
    {
      "cell_type": "code",
      "source": [
        "response, conversation = query_claude(\"What is Android 15's release date?\", [], FUNCTION_MAP)\n",
        "print(\"Conversation: \", conversation)\n",
        "print(\"Response: \", response)"
      ],
      "metadata": {
        "colab": {
          "base_uri": "https://localhost:8080/"
        },
        "id": "9DxJ-XbnUaRc",
        "outputId": "5ccc90fc-9dc4-4d84-e049-f7d3f7d2aeb4"
      },
      "execution_count": 79,
      "outputs": [
        {
          "output_type": "stream",
          "name": "stdout",
          "text": [
            "Tools called:  [ToolUseBlock(id='toolu_01HPJKQZ9K4bzd4aeV9iYuTH', input={'query': 'android 15 release date'}, name='search_web', type='tool_use')]\n",
            "Called out to search_web\n",
            "Web results:  [{'title': 'Android 15: All the new features, eligible devices, and release date', 'href': 'https://www.androidcentral.com/apps-software/android-15', 'body': 'Android 15 is the next version of Android, codenamed Vanilla Ice Cream, and it is expected to launch in August 2024. Learn about the new features in the first preview build, such as notification cooldown, keyboard vibration, partial screen recording, and more.'}, {'title': 'Android 15: What we know so far and what features we want to see', 'href': 'https://www.androidauthority.com/android-15-features-3401939/', 'body': 'Android 15 is the next major version of the Android platform, with a codename of Vanilla Ice Cream. It is currently in testing for Pixel devices and will likely launch in October 2024 with new UI changes, performance improvements, and security features.'}, {'title': 'Android 15 release date: When is the next update coming?', 'href': 'https://www.androidauthority.com/android-15-release-schedule-3415324/', 'body': 'The Android 15 release schedule is similar to Android 14. That means you can expect the final, stable version of the software in October. Android 15 release date: When is the next update coming?'}]\n",
            "Conversation:  [{'role': 'user', 'content': \"What is Android 15's release date?\"}, {'role': 'assistant', 'content': [ToolUseBlock(id='toolu_01HPJKQZ9K4bzd4aeV9iYuTH', input={'query': 'android 15 release date'}, name='search_web', type='tool_use')]}, {'role': 'user', 'content': [{'type': 'tool_result', 'tool_use_id': 'toolu_01HPJKQZ9K4bzd4aeV9iYuTH', 'content': \"['<web_result>\\\\n                <title>Android 15: All the new features, eligible devices, and release date</title>\\\\n                <body>Android 15 is the next version of Android, codenamed Vanilla Ice Cream, and it is expected to launch in August 2024. Learn about the new features in the first preview build, such as notification cooldown, keyboard vibration, partial screen recording, and more.</body>\\\\n                <source>https://www.androidcentral.com/apps-software/android-15</source>\\\\n               </web_result>', '<web_result>\\\\n                <title>Android 15: What we know so far and what features we want to see</title>\\\\n                <body>Android 15 is the next major version of the Android platform, with a codename of Vanilla Ice Cream. It is currently in testing for Pixel devices and will likely launch in October 2024 with new UI changes, performance improvements, and security features.</body>\\\\n                <source>https://www.androidauthority.com/android-15-features-3401939/</source>\\\\n               </web_result>', '<web_result>\\\\n                <title>Android 15 release date: When is the next update coming?</title>\\\\n                <body>The Android 15 release schedule is similar to Android 14. That means you can expect the final, stable version of the software in October. Android 15 release date: When is the next update coming?</body>\\\\n                <source>https://www.androidauthority.com/android-15-release-schedule-3415324/</source>\\\\n               </web_result>']\"}]}, {'role': 'assistant', 'content': [TextBlock(text='Based on the search results, the expected release date for Android 15 is in August 2024. The key details are:\\n\\n- Android 15 is the next major version of the Android operating system, codenamed \"Vanilla Ice Cream\".\\n- It is expected to launch in August 2024, with the final stable version likely coming in October 2024. [1](https://www.androidcentral.com/apps-software/android-15), [2](https://www.androidauthority.com/android-15-features-3401939/), [3](https://www.androidauthority.com/android-15-release-schedule-3415324/)\\n\\nSo in summary, the expected release date for Android 15 is August 2024.', type='text')]}]\n",
            "Response:  Based on the search results, the expected release date for Android 15 is in August 2024. The key details are:\n",
            "\n",
            "- Android 15 is the next major version of the Android operating system, codenamed \"Vanilla Ice Cream\".\n",
            "- It is expected to launch in August 2024, with the final stable version likely coming in October 2024. [1](https://www.androidcentral.com/apps-software/android-15), [2](https://www.androidauthority.com/android-15-features-3401939/), [3](https://www.androidauthority.com/android-15-release-schedule-3415324/)\n",
            "\n",
            "So in summary, the expected release date for Android 15 is August 2024.\n"
          ]
        }
      ]
    },
    {
      "cell_type": "code",
      "source": [],
      "metadata": {
        "id": "RKZ4CRWvUz0Y"
      },
      "execution_count": null,
      "outputs": []
    }
  ]
}