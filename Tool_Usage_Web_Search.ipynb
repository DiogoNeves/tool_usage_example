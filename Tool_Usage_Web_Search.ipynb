{
  "nbformat": 4,
  "nbformat_minor": 0,
  "metadata": {
    "colab": {
      "provenance": [],
      "authorship_tag": "ABX9TyOiVpYgwQbdS1Vh6Rf8kIzc",
      "include_colab_link": true
    },
    "kernelspec": {
      "name": "python3",
      "display_name": "Python 3"
    },
    "language_info": {
      "name": "python"
    }
  },
  "cells": [
    {
      "cell_type": "markdown",
      "metadata": {
        "id": "view-in-github",
        "colab_type": "text"
      },
      "source": [
        "<a href=\"https://colab.research.google.com/github/DiogoNeves/tool_usage_example/blob/main/Tool_Usage_Web_Search.ipynb\" target=\"_parent\"><img src=\"https://colab.research.google.com/assets/colab-badge.svg\" alt=\"Open In Colab\"/></a>"
      ]
    },
    {
      "cell_type": "code",
      "source": [
        "!pip install anthropic"
      ],
      "metadata": {
        "id": "5dn18T4XKcJz"
      },
      "execution_count": null,
      "outputs": []
    },
    {
      "cell_type": "code",
      "source": [
        "!pip install duckduckgo_search"
      ],
      "metadata": {
        "colab": {
          "base_uri": "https://localhost:8080/"
        },
        "id": "FUr1B2wbXFjq",
        "outputId": "78c88c27-f8f3-4858-da02-1beabeab4cd7"
      },
      "execution_count": 30,
      "outputs": [
        {
          "output_type": "stream",
          "name": "stdout",
          "text": [
            "Requirement already satisfied: duckduckgo_search in /usr/local/lib/python3.10/dist-packages (5.3.0)\n",
            "Requirement already satisfied: click>=8.1.7 in /usr/local/lib/python3.10/dist-packages (from duckduckgo_search) (8.1.7)\n",
            "Requirement already satisfied: curl-cffi>=0.6.2 in /usr/local/lib/python3.10/dist-packages (from duckduckgo_search) (0.6.3)\n",
            "Requirement already satisfied: orjson>=3.10.0 in /usr/local/lib/python3.10/dist-packages (from duckduckgo_search) (3.10.1)\n",
            "Requirement already satisfied: cffi>=1.12.0 in /usr/local/lib/python3.10/dist-packages (from curl-cffi>=0.6.2->duckduckgo_search) (1.16.0)\n",
            "Requirement already satisfied: certifi>=2024.2.2 in /usr/local/lib/python3.10/dist-packages (from curl-cffi>=0.6.2->duckduckgo_search) (2024.2.2)\n",
            "Requirement already satisfied: pycparser in /usr/local/lib/python3.10/dist-packages (from cffi>=1.12.0->curl-cffi>=0.6.2->duckduckgo_search) (2.22)\n"
          ]
        }
      ]
    },
    {
      "cell_type": "code",
      "source": [
        "from typing import Any\n",
        "from collections import namedtuple"
      ],
      "metadata": {
        "id": "EHs07GLgjS0c"
      },
      "execution_count": 2,
      "outputs": []
    },
    {
      "cell_type": "code",
      "source": [
        "import anthropic\n",
        "from google.colab import userdata\n",
        "\n",
        "ANTHROPIC_KEY = userdata.get(\"ANTHROPIC_API_KEY\")\n",
        "MODEL = \"claude-3-haiku-20240307\"\n",
        "\n",
        "client = anthropic.Anthropic(api_key=ANTHROPIC_KEY)"
      ],
      "metadata": {
        "id": "invP-D87Kn32"
      },
      "execution_count": 3,
      "outputs": []
    },
    {
      "cell_type": "code",
      "source": [
        "SYSTEM_MESSAGE = (\"You are a useful assistant that can answer general questions\"\n",
        "                  \" from users. Some questions require up-to-date knowledge,\"\n",
        "                  \" for which you should search the web with the tools\"\n",
        "                  \" provided. When returning answers from web searches, provide\"\n",
        "                  \" the sources as markdown reference links close to where the\"\n",
        "                  \" answer shows. For example, this is a reference link\"\n",
        "                  \" [1](https://reference.com)\")\n",
        "\n",
        "TOOLS = [\n",
        "    {\n",
        "        \"name\": \"search_web\",\n",
        "        \"description\": (\"Search the web based on a search query provided by the\"\n",
        "                        \" user. The query should be optimised for search\"\n",
        "                        \" engines to find the information needed to answer the\"\n",
        "                        \" main user query.\"),\n",
        "        \"input_schema\": {\n",
        "            \"type\": \"object\",\n",
        "            \"properties\": {\n",
        "                \"query\": {\n",
        "                    \"type\": \"string\",\n",
        "                    \"description\": (\"A web search optimised search query.\")\n",
        "                }\n",
        "            },\n",
        "            \"required\": [\"query\"],\n",
        "        },\n",
        "    },\n",
        "]"
      ],
      "metadata": {
        "id": "wfsWZOb5T6XT"
      },
      "execution_count": 49,
      "outputs": []
    },
    {
      "cell_type": "code",
      "source": [
        "from duckduckgo_search import DDGS\n",
        "\n",
        "NUM_RESULTS_TO_CONSIDER = 3\n",
        "\n",
        "\n",
        "def search_web(query: str) -> list[str]:\n",
        "    web_results = DDGS().text(query, max_results=NUM_RESULTS_TO_CONSIDER)\n",
        "    print(\"web results: \", web_results)\n",
        "    return [_parse_web_result(result) for result in web_results]\n",
        "\n",
        "\n",
        "def _parse_web_result(web_result: dict) -> str:\n",
        "    return f\"\"\"<web_result>\n",
        "                <title>{web_result[\"title\"]}</title>\n",
        "                <body>{web_result[\"body\"]}</body>\n",
        "                <source>{web_result[\"href\"]}</source>\n",
        "               </web_result>\"\"\"\n",
        "\n",
        "\n",
        "FUNCTION_MAP = {\n",
        "    \"search_web\": search_web\n",
        "}"
      ],
      "metadata": {
        "id": "4tPYGTr3lHx6"
      },
      "execution_count": 48,
      "outputs": []
    },
    {
      "cell_type": "code",
      "source": [
        "def run_tool(tool_block: Any) -> dict:\n",
        "    \"\"\"Run the right tool to the tool_block.\"\"\"\n",
        "    print(f\"Called out to {tool_block.name}\")\n",
        "\n",
        "    tool_to_run = FUNCTION_MAP.get(tool_block.name, None)\n",
        "    assert tool_to_run is not None\n",
        "\n",
        "    tool_id = tool_block.id\n",
        "    result = tool_to_run(**tool_block.input)\n",
        "    return {\n",
        "        \"type\": \"tool_result\",\n",
        "        \"tool_use_id\": tool_id,\n",
        "        \"content\": str(result)\n",
        "    }\n",
        "\n",
        "\n",
        "def query_claude(user_prompt: str | list, conversation: list) -> tuple[str, list]:\n",
        "\n",
        "    messages = conversation + [{\"role\": \"user\", \"content\": user_prompt}]\n",
        "\n",
        "    message = client.beta.tools.messages.create(\n",
        "        model=MODEL,\n",
        "        max_tokens=1000,\n",
        "        temperature=0.0,\n",
        "        system=SYSTEM_MESSAGE,\n",
        "        tools=TOOLS,\n",
        "        messages=messages\n",
        "    )\n",
        "\n",
        "    assistant_turn = {\"role\": \"assistant\", \"content\": message.content}\n",
        "    new_conversation = messages + [assistant_turn]\n",
        "\n",
        "    tool_blocks = [block for block in message.content\n",
        "                   if block.type == \"tool_use\"]\n",
        "\n",
        "    if not tool_blocks:\n",
        "        return \"\".join([block.text for block in message.content]), \\\n",
        "            new_conversation\n",
        "\n",
        "    print(\"Tools called: \", message.content)\n",
        "\n",
        "    tool_results = []\n",
        "    for block in tool_blocks:\n",
        "        tool_result = run_tool(block)\n",
        "        tool_results.append(tool_result)\n",
        "\n",
        "    return query_claude(tool_results, new_conversation)"
      ],
      "metadata": {
        "id": "VlF5vpC2Lxd4"
      },
      "execution_count": 44,
      "outputs": []
    },
    {
      "cell_type": "markdown",
      "source": [
        "## Searching the web with Claude\n",
        "\n",
        "### Examples to test\n",
        "**Positive Examples:**  \n",
        "\"What is Android 15's release date\"  \n",
        "\"When is the new iPhone coming out\"  \n",
        "\"Is Perplexity a publicly traded company\"  \n",
        "\"how can I search the web in python without having to setup paid APIs?\"  \n",
        "\n",
        "**Negative Examples:**  \n",
        "\"How do translate coding into japanese\"  \n",
        "\"What's your name\"  \n",
        "\"How do LLMs work\"  \n",
        "\"Say hello\""
      ],
      "metadata": {
        "id": "paQZzBwYTAvb"
      }
    },
    {
      "cell_type": "code",
      "source": [
        "response, conversation = query_claude(\"What is Android 15's release date?\", [])\n",
        "print(\"Conversation: \", conversation)\n",
        "print(\"Response: \", response)"
      ],
      "metadata": {
        "colab": {
          "base_uri": "https://localhost:8080/"
        },
        "id": "9DxJ-XbnUaRc",
        "outputId": "60799558-0a69-46b5-d83e-92ec02cb9021"
      },
      "execution_count": 50,
      "outputs": [
        {
          "output_type": "stream",
          "name": "stdout",
          "text": [
            "Tools called:  [ToolUseBlock(id='toolu_019Tih2q8Mun2RLiMbu3mzqE', input={'query': 'Android 15 release date'}, name='search_web', type='tool_use')]\n",
            "Called out to search_web\n",
            "web results:  [{'title': 'Android 15: All the new features, eligible devices, and release date', 'href': 'https://www.androidcentral.com/apps-software/android-15', 'body': 'Android 15 is the next version of Android, codenamed Vanilla Ice Cream, and it is expected to launch in August 2024. Learn about the new features in the first preview build, such as notification cooldown, keyboard vibration, partial screen recording, and more.'}, {'title': 'Android 15: What we know so far and what features we want to see', 'href': 'https://www.androidauthority.com/android-15-features-3401939/', 'body': 'Android 15 is the next major version of the Android platform, with a codename of Vanilla Ice Cream. It is currently in testing for Pixel devices and will likely launch in October 2024 with new UI changes, performance improvements, and security features.'}, {'title': 'Android 15: Leaks, timeline, and everything new in Beta 1', 'href': 'https://www.androidpolice.com/android-15/', 'body': \"What's new in Android 15 Beta 1. The first Android 15 beta dropped on April 11, 2024. Google made clear from the get-go that it's holding back many new features for its developer conference Google ...\"}]\n",
            "Conversation:  [{'role': 'user', 'content': \"What is Android 15's release date?\"}, {'role': 'assistant', 'content': [ToolUseBlock(id='toolu_019Tih2q8Mun2RLiMbu3mzqE', input={'query': 'Android 15 release date'}, name='search_web', type='tool_use')]}, {'role': 'user', 'content': [{'type': 'tool_result', 'tool_use_id': 'toolu_019Tih2q8Mun2RLiMbu3mzqE', 'content': '[\\'<web_result>\\\\n                <title>Android 15: All the new features, eligible devices, and release date</title>\\\\n                <body>Android 15 is the next version of Android, codenamed Vanilla Ice Cream, and it is expected to launch in August 2024. Learn about the new features in the first preview build, such as notification cooldown, keyboard vibration, partial screen recording, and more.</body>\\\\n                <source>https://www.androidcentral.com/apps-software/android-15</source>\\\\n               </web_result>\\', \\'<web_result>\\\\n                <title>Android 15: What we know so far and what features we want to see</title>\\\\n                <body>Android 15 is the next major version of the Android platform, with a codename of Vanilla Ice Cream. It is currently in testing for Pixel devices and will likely launch in October 2024 with new UI changes, performance improvements, and security features.</body>\\\\n                <source>https://www.androidauthority.com/android-15-features-3401939/</source>\\\\n               </web_result>\\', \"<web_result>\\\\n                <title>Android 15: Leaks, timeline, and everything new in Beta 1</title>\\\\n                <body>What\\'s new in Android 15 Beta 1. The first Android 15 beta dropped on April 11, 2024. Google made clear from the get-go that it\\'s holding back many new features for its developer conference Google ...</body>\\\\n                <source>https://www.androidpolice.com/android-15/</source>\\\\n               </web_result>\"]'}]}, {'role': 'assistant', 'content': [TextBlock(text='Based on the search results, the expected release date for Android 15 is August 2024. The key details are:\\n\\n- Android 15 is the next major version of the Android platform, codenamed \"Vanilla Ice Cream\".\\n- It is currently in testing for Pixel devices and is expected to launch in August 2024. [1](https://www.androidcentral.com/apps-software/android-15)\\n- Some of the new features expected in Android 15 include notification cooldown, keyboard vibration, and partial screen recording. [1](https://www.androidcentral.com/apps-software/android-15)\\n- There may also be UI changes, performance improvements, and security features in Android 15. [2](https://www.androidauthority.com/android-15-features-3401939/)\\n\\nSo in summary, the expected release date for Android 15 is August 2024.', type='text')]}]\n",
            "Response:  Based on the search results, the expected release date for Android 15 is August 2024. The key details are:\n",
            "\n",
            "- Android 15 is the next major version of the Android platform, codenamed \"Vanilla Ice Cream\".\n",
            "- It is currently in testing for Pixel devices and is expected to launch in August 2024. [1](https://www.androidcentral.com/apps-software/android-15)\n",
            "- Some of the new features expected in Android 15 include notification cooldown, keyboard vibration, and partial screen recording. [1](https://www.androidcentral.com/apps-software/android-15)\n",
            "- There may also be UI changes, performance improvements, and security features in Android 15. [2](https://www.androidauthority.com/android-15-features-3401939/)\n",
            "\n",
            "So in summary, the expected release date for Android 15 is August 2024.\n"
          ]
        }
      ]
    },
    {
      "cell_type": "code",
      "source": [
        "response, conversation = query_claude(\"How do translate 'coding' into japanese?\", [])\n",
        "print(\"Conversation: \", conversation)\n",
        "print(\"Response: \", response)"
      ],
      "metadata": {
        "id": "PxB0wfmqqVSY",
        "colab": {
          "base_uri": "https://localhost:8080/"
        },
        "outputId": "bdbd2b38-c4dc-41e6-de1c-a3b5a50c1849"
      },
      "execution_count": 51,
      "outputs": [
        {
          "output_type": "stream",
          "name": "stdout",
          "text": [
            "Tools called:  [ToolUseBlock(id='toolu_01K9ykoHPMUoW6Y7FuuezNMP', input={'query': \"how to translate 'coding' into japanese\"}, name='search_web', type='tool_use')]\n",
            "Called out to search_web\n",
            "web results:  [{'title': 'Coding languages translator, Code Translator: Convert Between ...', 'href': 'https://developerpal.dev/translate', 'body': 'Discover the future of coding with our revolutionary Translation Tool, designed to bridge the gap between diverse programming languages. Our innovative platform offers a seamless experience in translating code from one programming language to another, enabling developers, students, and technology enthusiasts to effortlessly understand and ...'}, {'title': 'source code - What is programming like in the Japanese language ...', 'href': 'https://softwareengineering.stackexchange.com/questions/46386/what-is-programming-like-in-the-japanese-language', 'body': \"Additionally, some older implementations of languages that translate code into tokens (not true compiling), can spit out the same code in an editor using the, say, German equivalent; my first experience with Microsoft Office's VBA was like this when I was a student in Germany. ... My wife generally writes code with a sort of Japanese-like ...\"}, {'title': 'Coding in Other (Spoken) Languages - Stack Overflow', 'href': 'https://stackoverflow.com/questions/202723/coding-in-other-spoken-languages', 'body': 'Excel\\'s macro language is localized, but luckily it\\'s stored in one canonical language (English) in the file, so the localization is just a layer on top of the normal thing. Such things only make sense for small \"programs\", for \"real\" programs it becomes hard to maintain. edited Oct 14, 2008 at 21:26. community wiki.'}]\n",
            "Conversation:  [{'role': 'user', 'content': \"How do translate 'coding' into japanese?\"}, {'role': 'assistant', 'content': [ToolUseBlock(id='toolu_01K9ykoHPMUoW6Y7FuuezNMP', input={'query': \"how to translate 'coding' into japanese\"}, name='search_web', type='tool_use')]}, {'role': 'user', 'content': [{'type': 'tool_result', 'tool_use_id': 'toolu_01K9ykoHPMUoW6Y7FuuezNMP', 'content': '[\\'<web_result>\\\\n                <title>Coding languages translator, Code Translator: Convert Between ...</title>\\\\n                <body>Discover the future of coding with our revolutionary Translation Tool, designed to bridge the gap between diverse programming languages. Our innovative platform offers a seamless experience in translating code from one programming language to another, enabling developers, students, and technology enthusiasts to effortlessly understand and ...</body>\\\\n                <source>https://developerpal.dev/translate</source>\\\\n               </web_result>\\', \"<web_result>\\\\n                <title>source code - What is programming like in the Japanese language ...</title>\\\\n                <body>Additionally, some older implementations of languages that translate code into tokens (not true compiling), can spit out the same code in an editor using the, say, German equivalent; my first experience with Microsoft Office\\'s VBA was like this when I was a student in Germany. ... My wife generally writes code with a sort of Japanese-like ...</body>\\\\n                <source>https://softwareengineering.stackexchange.com/questions/46386/what-is-programming-like-in-the-japanese-language</source>\\\\n               </web_result>\", \\'<web_result>\\\\n                <title>Coding in Other (Spoken) Languages - Stack Overflow</title>\\\\n                <body>Excel\\\\\\'s macro language is localized, but luckily it\\\\\\'s stored in one canonical language (English) in the file, so the localization is just a layer on top of the normal thing. Such things only make sense for small \"programs\", for \"real\" programs it becomes hard to maintain. edited Oct 14, 2008 at 21:26. community wiki.</body>\\\\n                <source>https://stackoverflow.com/questions/202723/coding-in-other-spoken-languages</source>\\\\n               </web_result>\\']'}]}, {'role': 'assistant', 'content': [TextBlock(text=\"Based on the search results, the Japanese translation for 'coding' would be:\\n\\nコーディング (kōdingu)\\n\\nThis is the Japanese loanword that is used to refer to the act of computer programming or coding. The Japanese language does not have a direct native translation for the English word 'coding', so the loanword 'kōdingu' is commonly used instead.\\n\\nReferences:\\n[1](https://developerpal.dev/translate)\\n[2](https://softwareengineering.stackexchange.com/questions/46386/what-is-programming-like-in-the-japanese-language)\\n[3](https://stackoverflow.com/questions/202723/coding-in-other-spoken-languages)\", type='text')]}]\n",
            "Response:  Based on the search results, the Japanese translation for 'coding' would be:\n",
            "\n",
            "コーディング (kōdingu)\n",
            "\n",
            "This is the Japanese loanword that is used to refer to the act of computer programming or coding. The Japanese language does not have a direct native translation for the English word 'coding', so the loanword 'kōdingu' is commonly used instead.\n",
            "\n",
            "References:\n",
            "[1](https://developerpal.dev/translate)\n",
            "[2](https://softwareengineering.stackexchange.com/questions/46386/what-is-programming-like-in-the-japanese-language)\n",
            "[3](https://stackoverflow.com/questions/202723/coding-in-other-spoken-languages)\n"
          ]
        }
      ]
    },
    {
      "cell_type": "code",
      "source": [
        "response, conversation = query_claude(\"Say hello\", [])\n",
        "print(\"Conversation: \", conversation)\n",
        "print(\"Response: \", response)"
      ],
      "metadata": {
        "colab": {
          "base_uri": "https://localhost:8080/"
        },
        "id": "G--r0mC8UeEB",
        "outputId": "79bd4531-5cd7-4799-f7d1-738bb0269218"
      },
      "execution_count": 52,
      "outputs": [
        {
          "output_type": "stream",
          "name": "stdout",
          "text": [
            "Conversation:  [{'role': 'user', 'content': 'Say hello'}, {'role': 'assistant', 'content': [TextBlock(text='Hello!', type='text')]}]\n",
            "Response:  Hello!\n"
          ]
        }
      ]
    },
    {
      "cell_type": "code",
      "source": [],
      "metadata": {
        "id": "RKZ4CRWvUz0Y"
      },
      "execution_count": null,
      "outputs": []
    }
  ]
}