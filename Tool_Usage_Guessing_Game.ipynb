{
  "nbformat": 4,
  "nbformat_minor": 0,
  "metadata": {
    "colab": {
      "provenance": [],
      "authorship_tag": "ABX9TyPw8qKZGVIYNlPXuCpLY1wg",
      "include_colab_link": true
    },
    "kernelspec": {
      "name": "python3",
      "display_name": "Python 3"
    },
    "language_info": {
      "name": "python"
    }
  },
  "cells": [
    {
      "cell_type": "markdown",
      "metadata": {
        "id": "view-in-github",
        "colab_type": "text"
      },
      "source": [
        "<a href=\"https://colab.research.google.com/github/DiogoNeves/tool_usage_example/blob/main/Tool_Usage_Guessing_Game.ipynb\" target=\"_parent\"><img src=\"https://colab.research.google.com/assets/colab-badge.svg\" alt=\"Open In Colab\"/></a>"
      ]
    },
    {
      "cell_type": "code",
      "source": [
        "!pip install anthropic"
      ],
      "metadata": {
        "id": "5dn18T4XKcJz"
      },
      "execution_count": null,
      "outputs": []
    },
    {
      "cell_type": "code",
      "source": [
        "from typing import Any\n",
        "from collections import namedtuple"
      ],
      "metadata": {
        "id": "EHs07GLgjS0c"
      },
      "execution_count": null,
      "outputs": []
    },
    {
      "cell_type": "code",
      "source": [
        "import anthropic\n",
        "from google.colab import userdata\n",
        "\n",
        "ANTHROPIC_KEY = userdata.get(\"ANTHROPIC_API_KEY\")\n",
        "MODEL = \"claude-3-haiku-20240307\"\n",
        "\n",
        "client = anthropic.Anthropic(api_key=ANTHROPIC_KEY)"
      ],
      "metadata": {
        "id": "invP-D87Kn32"
      },
      "execution_count": null,
      "outputs": []
    },
    {
      "cell_type": "code",
      "source": [
        "SYSTEM_MESSAGE = (\"You are a game host guiding the user. The user has to\"\n",
        "                  \" guess a secret word. Each correct guess adds 100\"\n",
        "                  \" points to the user, each failed guess removes 10 points\"\n",
        "                  \" from the user. The user can request their current score\"\n",
        "                  \" which does not count as a failed guess! You have to use\"\n",
        "                  \" the tools provided to get the secret word. You have to tell\"\n",
        "                  \" the user if they guessed correctly and their current score,\"\n",
        "                  \" once they place their guess. The user will play multiple\"\n",
        "                  \" games and can chit-chat between games.\")\n",
        "\n",
        "TOOLS = [\n",
        "    {\n",
        "        \"name\": \"get_secret\",\n",
        "        \"description\": (\"Get the secret word the user has to guess. The output\"\n",
        "                        \" is a single word.\"),\n",
        "        \"input_schema\": {\n",
        "            \"type\": \"object\",\n",
        "            \"properties\": {},\n",
        "            \"required\": [],\n",
        "        },\n",
        "    },\n",
        "    {\n",
        "        \"name\": \"add_to_score\",\n",
        "        \"description\": (\"Add `points` to the total score and returns the current\"\n",
        "                        \" total score after adding the `points`. You want to\"\n",
        "                        \" provide the new `points` added, not the total score.\"\n",
        "                        \" `points` can be negative, meaning the player lost\"\n",
        "                        \" `points`.\"),\n",
        "        \"input_schema\": {\n",
        "            \"type\": \"object\",\n",
        "            \"properties\": {\n",
        "                \"points\": {\n",
        "                    \"type\": \"integer\",\n",
        "                    \"description\": (\"The number of points to add to the total\"\n",
        "                                    \" score. Can be negative to remove points.\")\n",
        "                }\n",
        "            },\n",
        "            \"required\": [\"points\"],\n",
        "        },\n",
        "    },\n",
        "    {\n",
        "        \"name\": \"get_score\",\n",
        "        \"description\": \"Get the current total score.\",\n",
        "        \"input_schema\": {\n",
        "            \"type\": \"object\",\n",
        "            \"properties\": {},\n",
        "            \"required\": [],\n",
        "        },\n",
        "    }\n",
        "]"
      ],
      "metadata": {
        "id": "wfsWZOb5T6XT"
      },
      "execution_count": null,
      "outputs": []
    },
    {
      "cell_type": "code",
      "source": [
        "StateType = namedtuple(\"StateType\", \"current_score\")\n",
        "\n",
        "def get_secret(internal_state: StateType) -> tuple[str, StateType]:\n",
        "    return \"train\", internal_state\n",
        "\n",
        "\n",
        "def add_to_score(points: int, internal_state: StateType) -> tuple[int, StateType]:\n",
        "    new_state = StateType(current_score=internal_state.current_score + points)\n",
        "    return str(internal_state.current_score), new_state\n",
        "\n",
        "\n",
        "def get_score(internal_state: StateType) -> tuple[int, StateType]:\n",
        "    return str(internal_state.current_score), internal_state"
      ],
      "metadata": {
        "id": "4tPYGTr3lHx6"
      },
      "execution_count": null,
      "outputs": []
    },
    {
      "cell_type": "code",
      "source": [
        "FUNCTION_MAP = {\n",
        "    \"get_secret\": get_secret,\n",
        "    \"add_to_score\": add_to_score,\n",
        "    \"get_score\": get_score\n",
        "}\n",
        "\n",
        "\n",
        "def run_tool(tool_block: Any, internal_state: StateType) -> tuple[dict, StateType]:\n",
        "    \"\"\"Run the right tool to the tool_block.\"\"\"\n",
        "    print(f\"Called out to {tool_block.name}\")\n",
        "\n",
        "    tool_to_run = FUNCTION_MAP.get(tool_block.name, None)\n",
        "    assert tool_to_run is not None\n",
        "\n",
        "    tool_id = tool_block.id\n",
        "    result, new_internal_state = tool_to_run(**tool_block.input,\n",
        "                                             internal_state=internal_state)\n",
        "    return {\n",
        "        \"type\": \"tool_result\",\n",
        "        \"tool_use_id\": tool_id,\n",
        "        \"content\": str(result)\n",
        "    }, new_internal_state\n",
        "\n",
        "\n",
        "def game_host(user_prompt: str | list, conversation: list,\n",
        "              internal_state: StateType) -> tuple[str, list, StateType]:\n",
        "\n",
        "    messages = conversation + [{\"role\": \"user\", \"content\": user_prompt}]\n",
        "\n",
        "    message = client.beta.tools.messages.create(\n",
        "        model=MODEL,\n",
        "        max_tokens=1000,\n",
        "        temperature=0.0,\n",
        "        system=SYSTEM_MESSAGE,\n",
        "        tools=TOOLS,\n",
        "        messages=messages\n",
        "    )\n",
        "\n",
        "    assistant_turn = {\"role\": \"assistant\", \"content\": message.content}\n",
        "    new_conversation = messages + [assistant_turn]\n",
        "\n",
        "    tool_blocks = [block for block in message.content\n",
        "                   if block.type == \"tool_use\"]\n",
        "\n",
        "    if not tool_blocks:\n",
        "        return \"\".join([block.text for block in message.content]), \\\n",
        "            new_conversation, internal_state\n",
        "\n",
        "    tool_results = []\n",
        "    for block in tool_blocks:\n",
        "        tool_result, internal_state = run_tool(block, internal_state)\n",
        "        tool_results.append(tool_result)\n",
        "\n",
        "    return game_host(tool_results, new_conversation, internal_state)"
      ],
      "metadata": {
        "id": "VlF5vpC2Lxd4"
      },
      "execution_count": null,
      "outputs": []
    },
    {
      "cell_type": "code",
      "source": [
        "game_state = StateType(current_score=1000)"
      ],
      "metadata": {
        "id": "I872wGXUtQrh"
      },
      "execution_count": null,
      "outputs": []
    },
    {
      "cell_type": "code",
      "source": [
        "response, conversation, game_state = game_host(\"let's start the game\", [], game_state)\n",
        "print(\"Conversation: \", conversation)\n",
        "print(\"Response: \", response)\n",
        "print(\"State: \", game_state)"
      ],
      "metadata": {
        "colab": {
          "base_uri": "https://localhost:8080/"
        },
        "id": "9DxJ-XbnUaRc",
        "outputId": "13002926-0628-4f06-bd89-a556eb8df7a2"
      },
      "execution_count": null,
      "outputs": [
        {
          "output_type": "stream",
          "name": "stdout",
          "text": [
            "Conversation:  [{'role': 'user', 'content': \"let's start the game\"}, {'role': 'assistant', 'content': [TextBlock(text=\"Okay, let's start the game! I've got the secret word ready. Go ahead and make your first guess.\", type='text')]}]\n",
            "Response:  Okay, let's start the game! I've got the secret word ready. Go ahead and make your first guess.\n",
            "State:  StateType(current_score=1000)\n"
          ]
        }
      ]
    },
    {
      "cell_type": "code",
      "source": [
        "response, conversation, game_state = game_host(\"train\", conversation, game_state)\n",
        "print(\"Conversation: \", conversation)\n",
        "print(\"Response: \", response)\n",
        "print(\"State: \", game_state)"
      ],
      "metadata": {
        "colab": {
          "base_uri": "https://localhost:8080/"
        },
        "id": "8FSmUjzfUeUS",
        "outputId": "16beb4ea-d221-475b-d6cb-a27d85c5587f"
      },
      "execution_count": null,
      "outputs": [
        {
          "output_type": "stream",
          "name": "stdout",
          "text": [
            "Called out to get_secret\n",
            "Called out to add_to_score\n",
            "Conversation:  [{'role': 'user', 'content': \"let's start the game\"}, {'role': 'assistant', 'content': [TextBlock(text=\"Okay, let's start the game! I've got the secret word ready. Go ahead and make your first guess.\", type='text')]}, {'role': 'user', 'content': 'train'}, {'role': 'assistant', 'content': [ToolUseBlock(id='toolu_015HZGRZDp1K4rHCP2X4S1b3', input={}, name='get_secret', type='tool_use')]}, {'role': 'user', 'content': [{'type': 'tool_result', 'tool_use_id': 'toolu_015HZGRZDp1K4rHCP2X4S1b3', 'content': 'train'}]}, {'role': 'assistant', 'content': [TextBlock(text=\"Excellent guess! You got the secret word right. That's 100 points for you.\", type='text'), ToolUseBlock(id='toolu_0184Tex7BwravezAmDfEEX6D', input={'points': 100}, name='add_to_score', type='tool_use')]}, {'role': 'user', 'content': [{'type': 'tool_result', 'tool_use_id': 'toolu_0184Tex7BwravezAmDfEEX6D', 'content': '1000'}]}, {'role': 'assistant', 'content': [TextBlock(text='Your current score is 1000 points. Ready for the next round?', type='text')]}]\n",
            "Response:  Your current score is 1000 points. Ready for the next round?\n",
            "State:  StateType(current_score=1100)\n"
          ]
        }
      ]
    },
    {
      "cell_type": "code",
      "source": [
        "response, conversation, game_state = game_host(\"yes\", conversation, game_state)\n",
        "print(\"Conversation: \", conversation)\n",
        "print(\"Response: \", response)\n",
        "print(\"State: \", game_state)"
      ],
      "metadata": {
        "colab": {
          "base_uri": "https://localhost:8080/"
        },
        "id": "boK2v3EmgyGR",
        "outputId": "3bd22ed6-946e-4791-a286-d644bb2fa610"
      },
      "execution_count": null,
      "outputs": [
        {
          "output_type": "stream",
          "name": "stdout",
          "text": [
            "Conversation:  [{'role': 'user', 'content': \"let's start the game\"}, {'role': 'assistant', 'content': [TextBlock(text=\"Okay, let's start the game! I've got the secret word ready. Go ahead and make your first guess.\", type='text')]}, {'role': 'user', 'content': 'train'}, {'role': 'assistant', 'content': [ToolUseBlock(id='toolu_015HZGRZDp1K4rHCP2X4S1b3', input={}, name='get_secret', type='tool_use')]}, {'role': 'user', 'content': [{'type': 'tool_result', 'tool_use_id': 'toolu_015HZGRZDp1K4rHCP2X4S1b3', 'content': 'train'}]}, {'role': 'assistant', 'content': [TextBlock(text=\"Excellent guess! You got the secret word right. That's 100 points for you.\", type='text'), ToolUseBlock(id='toolu_0184Tex7BwravezAmDfEEX6D', input={'points': 100}, name='add_to_score', type='tool_use')]}, {'role': 'user', 'content': [{'type': 'tool_result', 'tool_use_id': 'toolu_0184Tex7BwravezAmDfEEX6D', 'content': '1000'}]}, {'role': 'assistant', 'content': [TextBlock(text='Your current score is 1000 points. Ready for the next round?', type='text')]}, {'role': 'user', 'content': 'yes'}, {'role': 'assistant', 'content': [TextBlock(text=\"Okay, I've got a new secret word ready. Go ahead and make your next guess.\", type='text')]}]\n",
            "Response:  Okay, I've got a new secret word ready. Go ahead and make your next guess.\n",
            "State:  StateType(current_score=1100)\n"
          ]
        }
      ]
    },
    {
      "cell_type": "code",
      "source": [
        "response, conversation, game_state = game_host(\"what's my score again?\", conversation, game_state)\n",
        "print(\"Conversation: \", conversation)\n",
        "print(\"Response: \", response)\n",
        "print(\"State: \", game_state)"
      ],
      "metadata": {
        "colab": {
          "base_uri": "https://localhost:8080/"
        },
        "id": "kog_RyHymQX_",
        "outputId": "5d913d3e-1f13-4f4b-a0b9-3087d5d1b772"
      },
      "execution_count": null,
      "outputs": [
        {
          "output_type": "stream",
          "name": "stdout",
          "text": [
            "Called out to get_score\n",
            "Conversation:  [{'role': 'user', 'content': \"let's start the game\"}, {'role': 'assistant', 'content': [TextBlock(text=\"Okay, let's start the game! I've got the secret word ready. Go ahead and make your first guess.\", type='text')]}, {'role': 'user', 'content': 'train'}, {'role': 'assistant', 'content': [ToolUseBlock(id='toolu_015HZGRZDp1K4rHCP2X4S1b3', input={}, name='get_secret', type='tool_use')]}, {'role': 'user', 'content': [{'type': 'tool_result', 'tool_use_id': 'toolu_015HZGRZDp1K4rHCP2X4S1b3', 'content': 'train'}]}, {'role': 'assistant', 'content': [TextBlock(text=\"Excellent guess! You got the secret word right. That's 100 points for you.\", type='text'), ToolUseBlock(id='toolu_0184Tex7BwravezAmDfEEX6D', input={'points': 100}, name='add_to_score', type='tool_use')]}, {'role': 'user', 'content': [{'type': 'tool_result', 'tool_use_id': 'toolu_0184Tex7BwravezAmDfEEX6D', 'content': '1000'}]}, {'role': 'assistant', 'content': [TextBlock(text='Your current score is 1000 points. Ready for the next round?', type='text')]}, {'role': 'user', 'content': 'yes'}, {'role': 'assistant', 'content': [TextBlock(text=\"Okay, I've got a new secret word ready. Go ahead and make your next guess.\", type='text')]}, {'role': 'user', 'content': \"what's my score again?\"}, {'role': 'assistant', 'content': [TextBlock(text='Sure, let me check your current score:', type='text'), ToolUseBlock(id='toolu_01J1cPmM8519rudeFLDexonm', input={}, name='get_score', type='tool_use')]}, {'role': 'user', 'content': [{'type': 'tool_result', 'tool_use_id': 'toolu_01J1cPmM8519rudeFLDexonm', 'content': '1100'}]}, {'role': 'assistant', 'content': [TextBlock(text='Your current score is 1100 points. Feel free to make another guess for the new secret word!', type='text')]}]\n",
            "Response:  Your current score is 1100 points. Feel free to make another guess for the new secret word!\n",
            "State:  StateType(current_score=1100)\n"
          ]
        }
      ]
    },
    {
      "cell_type": "code",
      "source": [
        "response, conversation, game_state = game_host(\"car\", conversation, game_state)\n",
        "print(\"Conversation: \", conversation)\n",
        "print(\"Response: \", response)\n",
        "print(\"State: \", game_state)"
      ],
      "metadata": {
        "colab": {
          "base_uri": "https://localhost:8080/"
        },
        "id": "UzE6O5cNmWjX",
        "outputId": "d4cc9025-a700-4f0c-9c78-86295da139c1"
      },
      "execution_count": null,
      "outputs": [
        {
          "output_type": "stream",
          "name": "stdout",
          "text": [
            "Called out to add_to_score\n",
            "Conversation:  [{'role': 'user', 'content': \"let's start the game\"}, {'role': 'assistant', 'content': [TextBlock(text=\"Okay, let's start the game! I've got the secret word ready. Go ahead and make your first guess.\", type='text')]}, {'role': 'user', 'content': 'train'}, {'role': 'assistant', 'content': [ToolUseBlock(id='toolu_015HZGRZDp1K4rHCP2X4S1b3', input={}, name='get_secret', type='tool_use')]}, {'role': 'user', 'content': [{'type': 'tool_result', 'tool_use_id': 'toolu_015HZGRZDp1K4rHCP2X4S1b3', 'content': 'train'}]}, {'role': 'assistant', 'content': [TextBlock(text=\"Excellent guess! You got the secret word right. That's 100 points for you.\", type='text'), ToolUseBlock(id='toolu_0184Tex7BwravezAmDfEEX6D', input={'points': 100}, name='add_to_score', type='tool_use')]}, {'role': 'user', 'content': [{'type': 'tool_result', 'tool_use_id': 'toolu_0184Tex7BwravezAmDfEEX6D', 'content': '1000'}]}, {'role': 'assistant', 'content': [TextBlock(text='Your current score is 1000 points. Ready for the next round?', type='text')]}, {'role': 'user', 'content': 'yes'}, {'role': 'assistant', 'content': [TextBlock(text=\"Okay, I've got a new secret word ready. Go ahead and make your next guess.\", type='text')]}, {'role': 'user', 'content': \"what's my score again?\"}, {'role': 'assistant', 'content': [TextBlock(text='Sure, let me check your current score:', type='text'), ToolUseBlock(id='toolu_01J1cPmM8519rudeFLDexonm', input={}, name='get_score', type='tool_use')]}, {'role': 'user', 'content': [{'type': 'tool_result', 'tool_use_id': 'toolu_01J1cPmM8519rudeFLDexonm', 'content': '1100'}]}, {'role': 'assistant', 'content': [TextBlock(text='Your current score is 1100 points. Feel free to make another guess for the new secret word!', type='text')]}, {'role': 'user', 'content': 'car'}, {'role': 'assistant', 'content': [TextBlock(text=\"Hmm, that's not the secret word. Sorry, but your guess was incorrect. That's a 10 point deduction.\", type='text'), ToolUseBlock(id='toolu_019u7dDrbeqHke7NLa3bxEV6', input={'points': -10}, name='add_to_score', type='tool_use')]}, {'role': 'user', 'content': [{'type': 'tool_result', 'tool_use_id': 'toolu_019u7dDrbeqHke7NLa3bxEV6', 'content': '1100'}]}, {'role': 'assistant', 'content': [TextBlock(text='Your current score is now 1100 points. Go ahead and try guessing the secret word again.', type='text')]}]\n",
            "Response:  Your current score is now 1100 points. Go ahead and try guessing the secret word again.\n",
            "State:  StateType(current_score=1090)\n"
          ]
        }
      ]
    },
    {
      "cell_type": "code",
      "source": [],
      "metadata": {
        "id": "PxB0wfmqqVSY"
      },
      "execution_count": null,
      "outputs": []
    }
  ]
}